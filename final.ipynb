{
 "cells": [
  {
   "attachments": {},
   "cell_type": "markdown",
   "metadata": {},
   "source": [
    "# CMSC422 Final Project: Using NFL Data to Predict Wins and Losses for an NFL Team\n",
    "\n",
    "#### Datta Kaligotla, Takeshi Sui, Telon Yan\n",
    "\n",
    "## Introduction\n",
    "The National Football League is a professional American football league that is composed of 32 teams, divided equally between the National Football Conference and the American Football Conference. The NFL's regular season usually runs from September through December, with each team playing 16 games. The playoffs follow the regular season that follows a single elimination best of one format, and culminate in the Super Bowl, which is the championship game of the NFL and is held annually on the first Sunday in February.\n",
    "\n",
    "The game of football is played on a field totaling 100 yards in length with end zones located at both ends of the field. The game is played with one team being the offense and one team being the defense. The two opposing teams switch between offense and defense as the game is played out. The objective of the offense is to bring the football into the endzone either through passing the ball or running with the ball in hand. This results in a touchdown which scores the offensive team points. The objective of the defense is to stop the offense from getting a touchdown either through tackling the player who currently holds the ball or intercepting the ball when it is being passed. \n",
    "\n",
    "### Motivation\n",
    "The motivation for being able to predict sports outcomes stems from our inherent fascination with competition, the desire to gain an edge, and the potential for financial gain. This is especially true with the biggest sport in the United States. As a result, the quest to predict and anticipate the outcomes of these events has become a significant endeavor. Additional information about existing football prediction methods is included in the citations.\n",
    "\n",
    "One key motivation for predicting sports outcomes is the thrill of competition itself. All four major sports in the United States including football allow fans of the game to compete with each other through the creation of brackets and fantasy football teams. Much like March Madness brackets that occur during the NCAA men’s basketball playoffs, the NFL allows fans to create brackets that predict how the playoffs will play out. Fans compete with one another to see who can create the most accurate bracket. Fantasy football is another way fans compete with each other based on prediction. In fantasy football, fans select their favorite NFL players to put on their fictional team. The performance of the individual players throughout the season determine how good the fantasy team is.\n",
    "\n",
    "Another motivation behind predicting sports outcomes is the desire to gain fame. Sports influencers and sports media are constantly trying to predict the outcome of the season. More often than not, the prediction ends up being inaccurate. However when the correct prediction is made, especially on an important event like the Super Bowl, the person who made the prediction gains enormous credibility. This is especially a big incentive for media companies who depend on TV ratings for viewership and profits.\n",
    "\n",
    "The more unethical but definitely most profitable side of sports predictions is gambling. Sports betting sites such as DraftKings and Fanduel make billions of dollars each year creating options for fans to bet on. This profit is maximized when these companies can set the line as accurate as possible for each individual bet. These companies hire thousands of data scientists and AI researchers every year to ensure their predictions are as accurate as possible. Additional information about the growing sports betting industry is linked in the citations.\n",
    "\n",
    "Overall, the motivation for being able to predict sports outcomes is multi-faceted. It satisfies our natural inclination for competition, offers a way to gain a career advantage, and provides financial opportunities\n",
    "\n",
    "## Approach\n",
    "\n",
    "### Variables\n",
    "There are hundreds of statistics on NFL teams, games, individual players, coaches, organizations, etc. Since we are focusing on the outcome of individual games, we primarily focused on statistics involving the game itself. Even then, there are dozens of advanced statistics to choose from. Ultimately we decided on the following variables as they have shown to be the most important statistic in predicting the outcome of an NFL game:\n",
    "\n",
    "- Passing yards - the number of yards a team gained from passing the football\n",
    "- Rushing yards - the number of yards a team gained from running with the football\n",
    "- Total yards - the total number of yards a team gained in the game (passing yards + rushing yards)\n",
    "- Fumbles - the number of times a team dropped the ball and thus lost possession\n",
    "- Interceptions - the number of times a ball is stolen by the opposing team\n",
    "- Turnovers - the total number of times a team gave up possession of the ball to the opposing team (fumbles + interceptions)\n",
    "\n",
    "These statistics are used from both teams to train our model\n",
    "\n",
    "To implement this, we start by importing relevant modules.\n",
    "All code is also available in the following github: https://github.com/DattaKaligotla/CMSC422-Final"
   ]
  },
  {
   "cell_type": "code",
   "execution_count": 1,
   "metadata": {},
   "outputs": [],
   "source": [
    "import pandas as pd\n",
    "import numpy as np\n",
    "import datetime\n",
    "from sklearn.preprocessing import StandardScaler\n",
    "from sklearn.metrics import classification_report, confusion_matrix, accuracy_score"
   ]
  },
  {
   "attachments": {},
   "cell_type": "markdown",
   "metadata": {},
   "source": [
    "Also just for neatness, we will suppress all code warnings that would appear when running"
   ]
  },
  {
   "cell_type": "code",
   "execution_count": 2,
   "metadata": {},
   "outputs": [],
   "source": [
    "import warnings\n",
    "warnings.filterwarnings('ignore')"
   ]
  },
  {
   "attachments": {},
   "cell_type": "markdown",
   "metadata": {},
   "source": [
    "### Dataset\n",
    "We got our data from kaggle from the following link: https://www.kaggle.com/datasets/cviaxmiwnptr/nfl-team-stats-20022019-espn\n",
    "\n",
    "This contains all data scraped from ESPN’s team stats page for each game from the 2002/03 NFL season to the 2023/23 NFL season. The data includes all regular season games and all playoff games with the exception of three games that are missing from ESPN’s page:\n",
    "- DAL@WAS 12-30-2007\n",
    "- CAR@PIT 12-23-2010\n",
    "- TB@ATL 1-1-2012\n",
    "\n",
    "### Data Processing and Training\n",
    "We split the data into two groups for training and testing. All data from the 2002/03 to 2021/22 seasons were used for training and data from the 2022/23 season were used for testing. All data was imported into a pandas dataframe where we processed the data. There were initially 39 columns of individual game data but we reduced it to 12 features which are stated above in the variables section. We used Scikit-learn which is a Python library made for machine learning.\n"
   ]
  },
  {
   "cell_type": "code",
   "execution_count": 3,
   "metadata": {},
   "outputs": [],
   "source": [
    "# read from file from ESPN\n",
    "data = pd.read_csv('nfl_team_stats_2002-2022.csv')\n",
    "\n",
    "# create \"Win\" column, the parameter to classify upon\n",
    "# win = 1 if the home team won\n",
    "data['Win'] = np.where(data['score_home'] > data['score_away'], 1, 0)\n",
    "# reformat date column to compare dates\n",
    "data.date = pd.to_datetime(data.date).dt.date\n"
   ]
  },
  {
   "attachments": {},
   "cell_type": "markdown",
   "metadata": {},
   "source": [
    "After storing the data into a dataframe and fixing parameters to meet our model's needs, we split the dataset into training and testing as described above"
   ]
  },
  {
   "cell_type": "code",
   "execution_count": 4,
   "metadata": {},
   "outputs": [],
   "source": [
    "X = ['total_yards_home', 'passing_yards_home', 'rushing_yards_home',\n",
    "        'total_yards_away', 'passing_yards_away', 'rushing_yards_away', 'fumbles_away', 'fumbles_home', 'int_away', 'int_home', 'turnovers_away', 'turnovers_home']\n",
    "Y = ['Win']\n",
    "\n",
    "# train on 2002 - 2021 seasons, test on 2022 (2022-2023) season\n",
    "date_2022 = datetime.date(2022, 6, 1)\n",
    "X_train = data[data['date'] < date_2022][X]\n",
    "y_train = data[data['date'] < date_2022][Y]\n",
    "X_test = data[data['date'] >= date_2022][X]\n",
    "y_test = data[data['date'] >= date_2022][Y]\n",
    "\n",
    "scaler = StandardScaler()\n",
    "X_train = scaler.fit_transform(X_train)\n",
    "X_test = scaler.transform(X_test)"
   ]
  },
  {
   "attachments": {},
   "cell_type": "markdown",
   "metadata": {},
   "source": [
    "## Models\n",
    "For this project, we used six different models: Multivariable logistic regression, random forest, support vector machine, k-nearest neighbors, decision tree, and multilayer perceptron."
   ]
  },
  {
   "attachments": {},
   "cell_type": "markdown",
   "metadata": {},
   "source": [
    "### Logistic Regression\n",
    "\n",
    "Multi-variable logistic regression is a simple and intuitive binary classificaiton model to test on. Regression coefficients are trained for all 12 selected variables. THe testing accuracy was 0.800"
   ]
  },
  {
   "cell_type": "code",
   "execution_count": 5,
   "metadata": {},
   "outputs": [
    {
     "name": "stdout",
     "output_type": "stream",
     "text": [
      "Logistic Regression\n",
      "[[ 96  28]\n",
      " [ 29 131]]\n",
      "              precision    recall  f1-score   support\n",
      "\n",
      "           0       0.77      0.77      0.77       124\n",
      "           1       0.82      0.82      0.82       160\n",
      "\n",
      "    accuracy                           0.80       284\n",
      "   macro avg       0.80      0.80      0.80       284\n",
      "weighted avg       0.80      0.80      0.80       284\n",
      "\n",
      "Testing Accuracy: 0.7992957746478874\n",
      "Training Accuracy: 0.824901997386597\n"
     ]
    }
   ],
   "source": [
    "# necessary import for this model\n",
    "from sklearn.linear_model import LogisticRegression\n",
    "\n",
    "log_model = LogisticRegression()\n",
    "# train the model\n",
    "log_model.fit(X_train, y_train)\n",
    "# get training accuracy\n",
    "log_y_train = log_model.predict(X_train)\n",
    "# predict on the test set\n",
    "log_y_pred = log_model.predict(X_test)\n",
    "\n",
    "# analyze results\n",
    "print(\"Logistic Regression\")\n",
    "print(confusion_matrix(y_test, log_y_pred))\n",
    "print(classification_report(y_test, log_y_pred))\n",
    "print(\"Testing Accuracy:\", accuracy_score(y_test, log_y_pred))\n",
    "print(\"Training Accuracy:\", accuracy_score(y_train, log_y_train))"
   ]
  },
  {
   "attachments": {},
   "cell_type": "markdown",
   "metadata": {},
   "source": [
    "### Decision Tree Classifier\n",
    "\n",
    "Decision trees are another type of classifier that splits its classification based on variable conditions. Decision tree classifiers can be useful in cases where datasets are incomplete. While our dataset is numerous, it technically also is missing three games. One potential pitfall with decision trees is depth; too high of a depth of decision tree can lead to overfitting on the training data, so we arbitrarily chose to limit the max depth to 6, half the number of total variables we look at. The testing accuracy was 0.764"
   ]
  },
  {
   "cell_type": "code",
   "execution_count": 6,
   "metadata": {},
   "outputs": [
    {
     "name": "stdout",
     "output_type": "stream",
     "text": [
      "Decision Tree\n",
      "[[ 88  36]\n",
      " [ 31 129]]\n",
      "              precision    recall  f1-score   support\n",
      "\n",
      "           0       0.74      0.71      0.72       124\n",
      "           1       0.78      0.81      0.79       160\n",
      "\n",
      "    accuracy                           0.76       284\n",
      "   macro avg       0.76      0.76      0.76       284\n",
      "weighted avg       0.76      0.76      0.76       284\n",
      "\n",
      "Testing Accuracy: 0.7640845070422535\n",
      "Training Accuracy: 0.8166884450252007\n"
     ]
    }
   ],
   "source": [
    "from sklearn.tree import DecisionTreeClassifier\n",
    "\n",
    "dt_model = DecisionTreeClassifier(random_state=42, max_depth=6)\n",
    "dt_model.fit(X_train, y_train)\n",
    "dt_y_train = dt_model.predict(X_train)\n",
    "dt_y_pred = dt_model.predict(X_test)\n",
    "\n",
    "print(\"Decision Tree\")\n",
    "print(confusion_matrix(y_test, dt_y_pred))\n",
    "print(classification_report(y_test, dt_y_pred))\n",
    "print(\"Testing Accuracy:\", accuracy_score(y_test, dt_y_pred))\n",
    "print(\"Training Accuracy:\", accuracy_score(y_train, dt_y_train))"
   ]
  },
  {
   "attachments": {},
   "cell_type": "markdown",
   "metadata": {},
   "source": [
    "### Random Forest\n",
    "\n",
    "Since the same potential overfitting can occur wth random forest, even if it tends to be less pronounced, the max depth of trees was likewise limited to 6. The testing accuracy was 0.810"
   ]
  },
  {
   "cell_type": "code",
   "execution_count": 7,
   "metadata": {},
   "outputs": [
    {
     "name": "stdout",
     "output_type": "stream",
     "text": [
      "Random Forest\n",
      "[[ 95  29]\n",
      " [ 25 135]]\n",
      "              precision    recall  f1-score   support\n",
      "\n",
      "           0       0.79      0.77      0.78       124\n",
      "           1       0.82      0.84      0.83       160\n",
      "\n",
      "    accuracy                           0.81       284\n",
      "   macro avg       0.81      0.80      0.81       284\n",
      "weighted avg       0.81      0.81      0.81       284\n",
      "\n",
      "Testing Accuracy: 0.8098591549295775\n",
      "Training Accuracy: 0.8448758633563561\n"
     ]
    }
   ],
   "source": [
    "from sklearn.ensemble import RandomForestClassifier\n",
    "\n",
    "rf_model = RandomForestClassifier(random_state=42, max_depth=6)\n",
    "rf_model.fit(X_train, y_train)\n",
    "rf_y_train = rf_model.predict(X_train)\n",
    "rf_y_pred = rf_model.predict(X_test)\n",
    "\n",
    "print(\"Random Forest\")\n",
    "print(confusion_matrix(y_test, rf_y_pred))\n",
    "print(classification_report(y_test, rf_y_pred))\n",
    "print(\"Testing Accuracy:\", accuracy_score(y_test, rf_y_pred))\n",
    "print(\"Training Accuracy:\", accuracy_score(y_train, rf_y_train))"
   ]
  },
  {
   "attachments": {},
   "cell_type": "markdown",
   "metadata": {},
   "source": [
    "### SVM\n",
    "\n",
    "Support vector machines find linear decision boundaries that try to maximize the margin between classifications. In this case, the test accuracy was 0.796."
   ]
  },
  {
   "cell_type": "code",
   "execution_count": 8,
   "metadata": {},
   "outputs": [
    {
     "name": "stdout",
     "output_type": "stream",
     "text": [
      "Support Vector Machine\n",
      "[[ 93  31]\n",
      " [ 27 133]]\n",
      "              precision    recall  f1-score   support\n",
      "\n",
      "           0       0.78      0.75      0.76       124\n",
      "           1       0.81      0.83      0.82       160\n",
      "\n",
      "    accuracy                           0.80       284\n",
      "   macro avg       0.79      0.79      0.79       284\n",
      "weighted avg       0.80      0.80      0.80       284\n",
      "\n",
      "Testing Accuracy: 0.795774647887324\n",
      "Training Accuracy: 0.8409557588202352\n"
     ]
    }
   ],
   "source": [
    "from sklearn.svm import SVC\n",
    "\n",
    "svm_model = SVC(random_state=42)\n",
    "svm_model.fit(X_train, y_train)\n",
    "svm_y_train = svm_model.predict(X_train)\n",
    "svm_y_pred = svm_model.predict(X_test)\n",
    "\n",
    "print(\"Support Vector Machine\")\n",
    "print(confusion_matrix(y_test, svm_y_pred))\n",
    "print(classification_report(y_test, svm_y_pred))\n",
    "print(\"Testing Accuracy:\", accuracy_score(y_test, svm_y_pred))\n",
    "print(\"Training Accuracy:\", accuracy_score(y_train, svm_y_train))"
   ]
  },
  {
   "attachments": {},
   "cell_type": "markdown",
   "metadata": {},
   "source": [
    "### KNN\n",
    "\n",
    "k-nearest neighbors has a potentially large advantage over SVM and the other models we have so far looked at because its decision boundaries can be very non-linear and complex. We used the default value of comparing against the 5 closest neighbors, and the test accuracy was 0.761"
   ]
  },
  {
   "cell_type": "code",
   "execution_count": 9,
   "metadata": {},
   "outputs": [
    {
     "name": "stdout",
     "output_type": "stream",
     "text": [
      "K-Nearest Neighbors\n",
      "[[ 90  34]\n",
      " [ 34 126]]\n",
      "              precision    recall  f1-score   support\n",
      "\n",
      "           0       0.73      0.73      0.73       124\n",
      "           1       0.79      0.79      0.79       160\n",
      "\n",
      "    accuracy                           0.76       284\n",
      "   macro avg       0.76      0.76      0.76       284\n",
      "weighted avg       0.76      0.76      0.76       284\n",
      "\n",
      "Testing Accuracy: 0.7605633802816901\n",
      "Training Accuracy: 0.8514093709165578\n"
     ]
    }
   ],
   "source": [
    "from sklearn.neighbors import KNeighborsClassifier\n",
    "\n",
    "knn_model = KNeighborsClassifier()\n",
    "knn_model.fit(X_train, y_train)\n",
    "knn_y_train = knn_model.predict(X_train)\n",
    "knn_y_pred = knn_model.predict(X_test)\n",
    "\n",
    "print(\"K-Nearest Neighbors\")\n",
    "print(confusion_matrix(y_test, knn_y_pred))\n",
    "print(classification_report(y_test, knn_y_pred))\n",
    "print(\"Testing Accuracy:\", accuracy_score(y_test, knn_y_pred))\n",
    "print(\"Training Accuracy:\", accuracy_score(y_train, knn_y_train))\n"
   ]
  },
  {
   "attachments": {},
   "cell_type": "markdown",
   "metadata": {},
   "source": [
    "### Neural Net (Multi-layer Perceptron)\n",
    "\n",
    "The last of the models we implemented and tested on this dataset was a 2-layer multi-layer perceptron network. Since we have a large dataset, we believed that a neural network would be able to learn more nuanced decision making and improve performance. We forced the model to run for 1000 iterations, and left the other hyperparameters of the model at their defualts: \n",
    "- 100 hidden neurons per layer\n",
    "- ReLu activation\n",
    "- Learning rate = 0.001\n",
    "- Adam solver\n",
    "etc\n",
    "\n",
    "This resulted in 0.802 testing accuracy"
   ]
  },
  {
   "cell_type": "code",
   "execution_count": 10,
   "metadata": {},
   "outputs": [
    {
     "name": "stdout",
     "output_type": "stream",
     "text": [
      "Simple Neural Network\n",
      "[[ 98  26]\n",
      " [ 30 130]]\n",
      "              precision    recall  f1-score   support\n",
      "\n",
      "           0       0.77      0.79      0.78       124\n",
      "           1       0.83      0.81      0.82       160\n",
      "\n",
      "    accuracy                           0.80       284\n",
      "   macro avg       0.80      0.80      0.80       284\n",
      "weighted avg       0.80      0.80      0.80       284\n",
      "\n",
      "Testing Accuracy: 0.8028169014084507\n",
      "Training Accuracy: 0.8299421317901811\n"
     ]
    }
   ],
   "source": [
    "from sklearn.neural_network import MLPClassifier\n",
    "\n",
    "nn_model = MLPClassifier(random_state=42, tol=1, max_iter=1000)\n",
    "nn_model.fit(X_train, y_train)\n",
    "nn_y_train = nn_model.predict(X_train)\n",
    "nn_y_pred = nn_model.predict(X_test)\n",
    "\n",
    "print(\"Simple Neural Network\")\n",
    "print(confusion_matrix(y_test, nn_y_pred))\n",
    "print(classification_report(y_test, nn_y_pred))\n",
    "print(\"Testing Accuracy:\", accuracy_score(y_test, nn_y_pred))\n",
    "print(\"Training Accuracy:\", accuracy_score(y_train, nn_y_train))"
   ]
  },
  {
   "attachments": {},
   "cell_type": "markdown",
   "metadata": {},
   "source": [
    "## Predictor GUI\n",
    "\n",
    "With these models trained, we also created a GUI where users can input any arbitrary game statistics, and see which team the different models will predict to win, along with their confidence in the prediction. This can be run by `predictor.py`"
   ]
  },
  {
   "attachments": {},
   "cell_type": "markdown",
   "metadata": {},
   "source": [
    "## Visualization & Conclusions\n",
    "\n",
    "The resulting trained models can be visualized for analysis. We start with logistic regression:"
   ]
  },
  {
   "cell_type": "code",
   "execution_count": 11,
   "metadata": {},
   "outputs": [
    {
     "data": {
      "image/png": "[encoded data removed]",
      "text/plain": [
       "<Figure size 640x480 with 1 Axes>"
      ]
     },
     "metadata": {},
     "output_type": "display_data"
    }
   ],
   "source": [
    "import matplotlib.pyplot as plt\n",
    "\n",
    "# logistic regression coefficients\n",
    "fig, ax = plt.subplots()\n",
    "\n",
    "# hbars = ax.bar(np.arange(len(X)), model.coef_, align='center')\n",
    "hbars = ax.bar(X, log_model.coef_[0])\n",
    "plt.xticks(rotation=90)\n",
    "ax.set_xlabel('Parameter')\n",
    "ax.set_title('Logistic Regression Coefficent Values')\n",
    "\n",
    "plt.show()"
   ]
  },
  {
   "attachments": {},
   "cell_type": "markdown",
   "metadata": {},
   "source": [
    "Next we analyzed the feature importances of the random forest model. We used the Gini Index/Mean Decrease in Impurity for this, which represents how much more homogenous the data becomes after passing through any given decision."
   ]
  },
  {
   "cell_type": "code",
   "execution_count": 12,
   "metadata": {},
   "outputs": [
    {
     "data": {
      "image/png": "[encoded data removed]",
      "text/plain": [
       "<Figure size 640x480 with 1 Axes>"
      ]
     },
     "metadata": {},
     "output_type": "display_data"
    }
   ],
   "source": [
    "# random forest feature importances\n",
    "fig, ax = plt.subplots()\n",
    "\n",
    "hbars = ax.bar(X, rf_model.feature_importances_)\n",
    "plt.xticks(rotation=90)\n",
    "ax.set_ylabel(\"Mean Decrease in Impurity\")\n",
    "ax.set_title('Feature Importances using MDI')\n",
    "\n",
    "plt.show()"
   ]
  },
  {
   "attachments": {},
   "cell_type": "markdown",
   "metadata": {},
   "source": [
    "We can also visualize the decision tree model in tree form:"
   ]
  },
  {
   "cell_type": "code",
   "execution_count": 13,
   "metadata": {},
   "outputs": [
    {
     "data": {
      "text/plain": [
       "[Text(0.5, 0.9285714285714286, 'x[10] <= -0.069\\ngini = 0.492\\nsamples = 5357\\nvalue = [2337, 3020]'),\n",
       " Text(0.25, 0.7857142857142857, 'x[11] <= -0.027\\ngini = 0.48\\nsamples = 2882\\nvalue = [1727, 1155]'),\n",
       " Text(0.125, 0.6428571428571429, 'x[3] <= 0.315\\ngini = 0.493\\nsamples = 1490\\nvalue = [658, 832]'),\n",
       " Text(0.0625, 0.5, 'x[0] <= -0.773\\ngini = 0.413\\nsamples = 848\\nvalue = [247, 601]'),\n",
       " Text(0.03125, 0.35714285714285715, 'x[11] <= -0.783\\ngini = 0.466\\nsamples = 160\\nvalue = [101, 59]'),\n",
       " Text(0.015625, 0.21428571428571427, 'x[3] <= -0.43\\ngini = 0.46\\nsamples = 53\\nvalue = [19, 34]'),\n",
       " Text(0.0078125, 0.07142857142857142, 'gini = 0.204\\nsamples = 26\\nvalue = [3, 23]'),\n",
       " Text(0.0234375, 0.07142857142857142, 'gini = 0.483\\nsamples = 27\\nvalue = [16, 11]'),\n",
       " Text(0.046875, 0.21428571428571427, 'x[0] <= -1.327\\ngini = 0.358\\nsamples = 107\\nvalue = [82, 25]'),\n",
       " Text(0.0390625, 0.07142857142857142, 'gini = 0.056\\nsamples = 35\\nvalue = [34, 1]'),\n",
       " Text(0.0546875, 0.07142857142857142, 'gini = 0.444\\nsamples = 72\\nvalue = [48, 24]'),\n",
       " Text(0.09375, 0.35714285714285715, 'x[3] <= -0.54\\ngini = 0.334\\nsamples = 688\\nvalue = [146, 542]'),\n",
       " Text(0.078125, 0.21428571428571427, 'x[2] <= -1.023\\ngini = 0.186\\nsamples = 337\\nvalue = [35, 302]'),\n",
       " Text(0.0703125, 0.07142857142857142, 'gini = 0.469\\nsamples = 8\\nvalue = [5, 3]'),\n",
       " Text(0.0859375, 0.07142857142857142, 'gini = 0.166\\nsamples = 329\\nvalue = [30, 299]'),\n",
       " Text(0.109375, 0.21428571428571427, 'x[0] <= 0.658\\ngini = 0.432\\nsamples = 351\\nvalue = [111, 240]'),\n",
       " Text(0.1015625, 0.07142857142857142, 'gini = 0.482\\nsamples = 240\\nvalue = [97, 143]'),\n",
       " Text(0.1171875, 0.07142857142857142, 'gini = 0.22\\nsamples = 111\\nvalue = [14, 97]'),\n",
       " Text(0.1875, 0.5, 'x[0] <= -0.069\\ngini = 0.461\\nsamples = 642\\nvalue = [411, 231]'),\n",
       " Text(0.15625, 0.35714285714285715, 'x[11] <= -0.783\\ngini = 0.284\\nsamples = 269\\nvalue = [223, 46]'),\n",
       " Text(0.140625, 0.21428571428571427, 'x[10] <= -0.819\\ngini = 0.431\\nsamples = 102\\nvalue = [70, 32]'),\n",
       " Text(0.1328125, 0.07142857142857142, 'gini = 0.234\\nsamples = 37\\nvalue = [32, 5]'),\n",
       " Text(0.1484375, 0.07142857142857142, 'gini = 0.486\\nsamples = 65\\nvalue = [38, 27]'),\n",
       " Text(0.171875, 0.21428571428571427, 'x[2] <= -0.024\\ngini = 0.154\\nsamples = 167\\nvalue = [153, 14]'),\n",
       " Text(0.1640625, 0.07142857142857142, 'gini = 0.073\\nsamples = 131\\nvalue = [126, 5]'),\n",
       " Text(0.1796875, 0.07142857142857142, 'gini = 0.375\\nsamples = 36\\nvalue = [27, 9]'),\n",
       " Text(0.21875, 0.35714285714285715, 'x[5] <= 0.06\\ngini = 0.5\\nsamples = 373\\nvalue = [188, 185]'),\n",
       " Text(0.203125, 0.21428571428571427, 'x[11] <= -0.783\\ngini = 0.466\\nsamples = 189\\nvalue = [70, 119]'),\n",
       " Text(0.1953125, 0.07142857142857142, 'gini = 0.302\\nsamples = 81\\nvalue = [15, 66]'),\n",
       " Text(0.2109375, 0.07142857142857142, 'gini = 0.5\\nsamples = 108\\nvalue = [55, 53]'),\n",
       " Text(0.234375, 0.21428571428571427, 'x[2] <= -0.197\\ngini = 0.46\\nsamples = 184\\nvalue = [118, 66]'),\n",
       " Text(0.2265625, 0.07142857142857142, 'gini = 0.359\\nsamples = 98\\nvalue = [75, 23]'),\n",
       " Text(0.2421875, 0.07142857142857142, 'gini = 0.5\\nsamples = 86\\nvalue = [43, 43]'),\n",
       " Text(0.375, 0.6428571428571429, 'x[5] <= -0.216\\ngini = 0.356\\nsamples = 1392\\nvalue = [1069, 323]'),\n",
       " Text(0.3125, 0.5, 'x[0] <= -0.343\\ngini = 0.483\\nsamples = 494\\nvalue = [292, 202]'),\n",
       " Text(0.28125, 0.35714285714285715, 'x[4] <= -0.944\\ngini = 0.292\\nsamples = 135\\nvalue = [111, 24]'),\n",
       " Text(0.265625, 0.21428571428571427, 'x[2] <= -0.802\\ngini = 0.492\\nsamples = 16\\nvalue = [7, 9]'),\n",
       " Text(0.2578125, 0.07142857142857142, 'gini = 0.0\\nsamples = 4\\nvalue = [4, 0]'),\n",
       " Text(0.2734375, 0.07142857142857142, 'gini = 0.375\\nsamples = 12\\nvalue = [3, 9]'),\n",
       " Text(0.296875, 0.21428571428571427, 'x[10] <= -0.819\\ngini = 0.22\\nsamples = 119\\nvalue = [104, 15]'),\n",
       " Text(0.2890625, 0.07142857142857142, 'gini = 0.041\\nsamples = 48\\nvalue = [47, 1]'),\n",
       " Text(0.3046875, 0.07142857142857142, 'gini = 0.317\\nsamples = 71\\nvalue = [57, 14]'),\n",
       " Text(0.34375, 0.35714285714285715, 'x[3] <= -0.892\\ngini = 0.5\\nsamples = 359\\nvalue = [181, 178]'),\n",
       " Text(0.328125, 0.21428571428571427, 'x[11] <= 1.483\\ngini = 0.424\\nsamples = 108\\nvalue = [33, 75]'),\n",
       " Text(0.3203125, 0.07142857142857142, 'gini = 0.325\\nsamples = 88\\nvalue = [18, 70]'),\n",
       " Text(0.3359375, 0.07142857142857142, 'gini = 0.375\\nsamples = 20\\nvalue = [15, 5]'),\n",
       " Text(0.359375, 0.21428571428571427, 'x[0] <= 2.25\\ngini = 0.484\\nsamples = 251\\nvalue = [148, 103]'),\n",
       " Text(0.3515625, 0.07142857142857142, 'gini = 0.474\\nsamples = 241\\nvalue = [148, 93]'),\n",
       " Text(0.3671875, 0.07142857142857142, 'gini = 0.0\\nsamples = 10\\nvalue = [0, 10]'),\n",
       " Text(0.4375, 0.5, 'x[2] <= 1.177\\ngini = 0.233\\nsamples = 898\\nvalue = [777, 121]'),\n",
       " Text(0.40625, 0.35714285714285715, 'x[0] <= -0.463\\ngini = 0.2\\nsamples = 851\\nvalue = [755, 96]'),\n",
       " Text(0.390625, 0.21428571428571427, 'x[8] <= -0.446\\ngini = 0.047\\nsamples = 374\\nvalue = [365, 9]'),\n",
       " Text(0.3828125, 0.07142857142857142, 'gini = 0.007\\nsamples = 271\\nvalue = [270, 1]'),\n",
       " Text(0.3984375, 0.07142857142857142, 'gini = 0.143\\nsamples = 103\\nvalue = [95, 8]'),\n",
       " Text(0.421875, 0.21428571428571427, 'x[11] <= 0.728\\ngini = 0.298\\nsamples = 477\\nvalue = [390, 87]'),\n",
       " Text(0.4140625, 0.07142857142857142, 'gini = 0.409\\nsamples = 220\\nvalue = [157, 63]'),\n",
       " Text(0.4296875, 0.07142857142857142, 'gini = 0.169\\nsamples = 257\\nvalue = [233, 24]'),\n",
       " Text(0.46875, 0.35714285714285715, 'x[3] <= 0.499\\ngini = 0.498\\nsamples = 47\\nvalue = [22, 25]'),\n",
       " Text(0.453125, 0.21428571428571427, 'x[1] <= -1.015\\ngini = 0.412\\nsamples = 31\\nvalue = [9, 22]'),\n",
       " Text(0.4453125, 0.07142857142857142, 'gini = 0.408\\nsamples = 7\\nvalue = [5, 2]'),\n",
       " Text(0.4609375, 0.07142857142857142, 'gini = 0.278\\nsamples = 24\\nvalue = [4, 20]'),\n",
       " Text(0.484375, 0.21428571428571427, 'x[5] <= 1.311\\ngini = 0.305\\nsamples = 16\\nvalue = [13, 3]'),\n",
       " Text(0.4765625, 0.07142857142857142, 'gini = 0.142\\nsamples = 13\\nvalue = [12, 1]'),\n",
       " Text(0.4921875, 0.07142857142857142, 'gini = 0.444\\nsamples = 3\\nvalue = [1, 2]'),\n",
       " Text(0.75, 0.7857142857142857, 'x[11] <= 0.728\\ngini = 0.371\\nsamples = 2475\\nvalue = [610, 1865]'),\n",
       " Text(0.625, 0.6428571428571429, 'x[3] <= 0.061\\ngini = 0.295\\nsamples = 2054\\nvalue = [369, 1685]'),\n",
       " Text(0.5625, 0.5, 'x[0] <= -0.367\\ngini = 0.164\\nsamples = 1143\\nvalue = [103, 1040]'),\n",
       " Text(0.53125, 0.35714285714285715, 'x[3] <= -0.655\\ngini = 0.298\\nsamples = 389\\nvalue = [71, 318]'),\n",
       " Text(0.515625, 0.21428571428571427, 'x[11] <= -0.027\\ngini = 0.156\\nsamples = 187\\nvalue = [16, 171]'),\n",
       " Text(0.5078125, 0.07142857142857142, 'gini = 0.072\\nsamples = 134\\nvalue = [5, 129]'),\n",
       " Text(0.5234375, 0.07142857142857142, 'gini = 0.329\\nsamples = 53\\nvalue = [11, 42]'),\n",
       " Text(0.546875, 0.21428571428571427, 'x[10] <= 0.681\\ngini = 0.396\\nsamples = 202\\nvalue = [55, 147]'),\n",
       " Text(0.5390625, 0.07142857142857142, 'gini = 0.488\\nsamples = 95\\nvalue = [40, 55]'),\n",
       " Text(0.5546875, 0.07142857142857142, 'gini = 0.241\\nsamples = 107\\nvalue = [15, 92]'),\n",
       " Text(0.59375, 0.35714285714285715, 'x[2] <= -0.485\\ngini = 0.081\\nsamples = 754\\nvalue = [32, 722]'),\n",
       " Text(0.578125, 0.21428571428571427, 'x[10] <= 0.681\\ngini = 0.234\\nsamples = 96\\nvalue = [13, 83]'),\n",
       " Text(0.5703125, 0.07142857142857142, 'gini = 0.357\\nsamples = 56\\nvalue = [13, 43]'),\n",
       " Text(0.5859375, 0.07142857142857142, 'gini = 0.0\\nsamples = 40\\nvalue = [0, 40]'),\n",
       " Text(0.609375, 0.21428571428571427, 'x[0] <= 0.014\\ngini = 0.056\\nsamples = 658\\nvalue = [19, 639]'),\n",
       " Text(0.6015625, 0.07142857142857142, 'gini = 0.16\\nsamples = 160\\nvalue = [14, 146]'),\n",
       " Text(0.6171875, 0.07142857142857142, 'gini = 0.02\\nsamples = 498\\nvalue = [5, 493]'),\n",
       " Text(0.6875, 0.5, 'x[0] <= -0.594\\ngini = 0.413\\nsamples = 911\\nvalue = [266, 645]'),\n",
       " Text(0.65625, 0.35714285714285715, 'x[10] <= 1.431\\ngini = 0.5\\nsamples = 260\\nvalue = [130, 130]'),\n",
       " Text(0.640625, 0.21428571428571427, 'x[5] <= 0.385\\ngini = 0.486\\nsamples = 207\\nvalue = [121, 86]'),\n",
       " Text(0.6328125, 0.07142857142857142, 'gini = 0.488\\nsamples = 116\\nvalue = [49, 67]'),\n",
       " Text(0.6484375, 0.07142857142857142, 'gini = 0.33\\nsamples = 91\\nvalue = [72, 19]'),\n",
       " Text(0.671875, 0.21428571428571427, 'x[1] <= -0.219\\ngini = 0.282\\nsamples = 53\\nvalue = [9, 44]'),\n",
       " Text(0.6640625, 0.07142857142857142, 'gini = 0.215\\nsamples = 49\\nvalue = [6, 43]'),\n",
       " Text(0.6796875, 0.07142857142857142, 'gini = 0.375\\nsamples = 4\\nvalue = [3, 1]'),\n",
       " Text(0.71875, 0.35714285714285715, 'x[11] <= -0.783\\ngini = 0.331\\nsamples = 651\\nvalue = [136, 515]'),\n",
       " Text(0.703125, 0.21428571428571427, 'x[4] <= -0.465\\ngini = 0.168\\nsamples = 238\\nvalue = [22, 216]'),\n",
       " Text(0.6953125, 0.07142857142857142, 'gini = 0.5\\nsamples = 8\\nvalue = [4, 4]'),\n",
       " Text(0.7109375, 0.07142857142857142, 'gini = 0.144\\nsamples = 230\\nvalue = [18, 212]'),\n",
       " Text(0.734375, 0.21428571428571427, 'x[10] <= 0.681\\ngini = 0.4\\nsamples = 413\\nvalue = [114, 299]'),\n",
       " Text(0.7265625, 0.07142857142857142, 'gini = 0.466\\nsamples = 219\\nvalue = [81, 138]'),\n",
       " Text(0.7421875, 0.07142857142857142, 'gini = 0.282\\nsamples = 194\\nvalue = [33, 161]'),\n",
       " Text(0.875, 0.6428571428571429, 'x[10] <= 0.681\\ngini = 0.49\\nsamples = 421\\nvalue = [241, 180]'),\n",
       " Text(0.8125, 0.5, 'x[2] <= -0.004\\ngini = 0.389\\nsamples = 253\\nvalue = [186, 67]'),\n",
       " Text(0.78125, 0.35714285714285715, 'x[5] <= -0.097\\ngini = 0.223\\nsamples = 164\\nvalue = [143, 21]'),\n",
       " Text(0.765625, 0.21428571428571427, 'x[3] <= -1.718\\ngini = 0.4\\nsamples = 58\\nvalue = [42, 16]'),\n",
       " Text(0.7578125, 0.07142857142857142, 'gini = 0.0\\nsamples = 3\\nvalue = [0, 3]'),\n",
       " Text(0.7734375, 0.07142857142857142, 'gini = 0.361\\nsamples = 55\\nvalue = [42, 13]'),\n",
       " Text(0.796875, 0.21428571428571427, 'x[9] <= -0.4\\ngini = 0.09\\nsamples = 106\\nvalue = [101, 5]'),\n",
       " Text(0.7890625, 0.07142857142857142, 'gini = 0.0\\nsamples = 1\\nvalue = [0, 1]'),\n",
       " Text(0.8046875, 0.07142857142857142, 'gini = 0.073\\nsamples = 105\\nvalue = [101, 4]'),\n",
       " Text(0.84375, 0.35714285714285715, 'x[3] <= -0.072\\ngini = 0.499\\nsamples = 89\\nvalue = [43, 46]'),\n",
       " Text(0.828125, 0.21428571428571427, 'x[5] <= -0.403\\ngini = 0.432\\nsamples = 57\\nvalue = [18, 39]'),\n",
       " Text(0.8203125, 0.07142857142857142, 'gini = 0.238\\nsamples = 29\\nvalue = [4, 25]'),\n",
       " Text(0.8359375, 0.07142857142857142, 'gini = 0.5\\nsamples = 28\\nvalue = [14, 14]'),\n",
       " Text(0.859375, 0.21428571428571427, 'x[2] <= 1.907\\ngini = 0.342\\nsamples = 32\\nvalue = [25, 7]'),\n",
       " Text(0.8515625, 0.07142857142857142, 'gini = 0.278\\nsamples = 30\\nvalue = [25, 5]'),\n",
       " Text(0.8671875, 0.07142857142857142, 'gini = 0.0\\nsamples = 2\\nvalue = [0, 2]'),\n",
       " Text(0.9375, 0.5, 'x[0] <= -0.433\\ngini = 0.44\\nsamples = 168\\nvalue = [55, 113]'),\n",
       " Text(0.90625, 0.35714285714285715, 'x[10] <= 1.431\\ngini = 0.495\\nsamples = 60\\nvalue = [33, 27]'),\n",
       " Text(0.890625, 0.21428571428571427, 'x[3] <= -1.591\\ngini = 0.411\\nsamples = 38\\nvalue = [27, 11]'),\n",
       " Text(0.8828125, 0.07142857142857142, 'gini = 0.0\\nsamples = 2\\nvalue = [0, 2]'),\n",
       " Text(0.8984375, 0.07142857142857142, 'gini = 0.375\\nsamples = 36\\nvalue = [27, 9]'),\n",
       " Text(0.921875, 0.21428571428571427, 'x[4] <= -1.55\\ngini = 0.397\\nsamples = 22\\nvalue = [6, 16]'),\n",
       " Text(0.9140625, 0.07142857142857142, 'gini = 0.0\\nsamples = 3\\nvalue = [3, 0]'),\n",
       " Text(0.9296875, 0.07142857142857142, 'gini = 0.266\\nsamples = 19\\nvalue = [3, 16]'),\n",
       " Text(0.96875, 0.35714285714285715, 'x[3] <= 0.511\\ngini = 0.324\\nsamples = 108\\nvalue = [22, 86]'),\n",
       " Text(0.953125, 0.21428571428571427, 'x[5] <= 1.676\\ngini = 0.171\\nsamples = 85\\nvalue = [8, 77]'),\n",
       " Text(0.9453125, 0.07142857142857142, 'gini = 0.153\\nsamples = 84\\nvalue = [7, 77]'),\n",
       " Text(0.9609375, 0.07142857142857142, 'gini = 0.0\\nsamples = 1\\nvalue = [1, 0]'),\n",
       " Text(0.984375, 0.21428571428571427, 'x[9] <= 1.597\\ngini = 0.476\\nsamples = 23\\nvalue = [14, 9]'),\n",
       " Text(0.9765625, 0.07142857142857142, 'gini = 0.498\\nsamples = 17\\nvalue = [8, 9]'),\n",
       " Text(0.9921875, 0.07142857142857142, 'gini = 0.0\\nsamples = 6\\nvalue = [6, 0]')]"
      ]
     },
     "execution_count": 13,
     "metadata": {},
     "output_type": "execute_result"
    },
    {
     "data": {
      "image/png": "[encoded data removed]",
      "text/plain": [
       "<Figure size 640x480 with 1 Axes>"
      ]
     },
     "metadata": {},
     "output_type": "display_data"
    }
   ],
   "source": [
    "from sklearn import tree\n",
    "\n",
    "tree.plot_tree(dt_model)"
   ]
  },
  {
   "attachments": {},
   "cell_type": "markdown",
   "metadata": {},
   "source": [
    "However, even while limiting the tree depth to 6, this is too many decisions to be able to be read. We can therefore also output it as text:"
   ]
  },
  {
   "cell_type": "code",
   "execution_count": 14,
   "metadata": {},
   "outputs": [
    {
     "name": "stdout",
     "output_type": "stream",
     "text": [
      "|--- feature_10 <= -0.07\n",
      "|   |--- feature_11 <= -0.03\n",
      "|   |   |--- feature_3 <= 0.31\n",
      "|   |   |   |--- feature_0 <= -0.77\n",
      "|   |   |   |   |--- feature_11 <= -0.78\n",
      "|   |   |   |   |   |--- feature_3 <= -0.43\n",
      "|   |   |   |   |   |   |--- class: 1\n",
      "|   |   |   |   |   |--- feature_3 >  -0.43\n",
      "|   |   |   |   |   |   |--- class: 0\n",
      "|   |   |   |   |--- feature_11 >  -0.78\n",
      "|   |   |   |   |   |--- feature_0 <= -1.33\n",
      "|   |   |   |   |   |   |--- class: 0\n",
      "|   |   |   |   |   |--- feature_0 >  -1.33\n",
      "|   |   |   |   |   |   |--- class: 0\n",
      "|   |   |   |--- feature_0 >  -0.77\n",
      "|   |   |   |   |--- feature_3 <= -0.54\n",
      "|   |   |   |   |   |--- feature_2 <= -1.02\n",
      "|   |   |   |   |   |   |--- class: 0\n",
      "|   |   |   |   |   |--- feature_2 >  -1.02\n",
      "|   |   |   |   |   |   |--- class: 1\n",
      "|   |   |   |   |--- feature_3 >  -0.54\n",
      "|   |   |   |   |   |--- feature_0 <= 0.66\n",
      "|   |   |   |   |   |   |--- class: 1\n",
      "|   |   |   |   |   |--- feature_0 >  0.66\n",
      "|   |   |   |   |   |   |--- class: 1\n",
      "|   |   |--- feature_3 >  0.31\n",
      "|   |   |   |--- feature_0 <= -0.07\n",
      "|   |   |   |   |--- feature_11 <= -0.78\n",
      "|   |   |   |   |   |--- feature_10 <= -0.82\n",
      "|   |   |   |   |   |   |--- class: 0\n",
      "|   |   |   |   |   |--- feature_10 >  -0.82\n",
      "|   |   |   |   |   |   |--- class: 0\n",
      "|   |   |   |   |--- feature_11 >  -0.78\n",
      "|   |   |   |   |   |--- feature_2 <= -0.02\n",
      "|   |   |   |   |   |   |--- class: 0\n",
      "|   |   |   |   |   |--- feature_2 >  -0.02\n",
      "|   |   |   |   |   |   |--- class: 0\n",
      "|   |   |   |--- feature_0 >  -0.07\n",
      "|   |   |   |   |--- feature_5 <= 0.06\n",
      "|   |   |   |   |   |--- feature_11 <= -0.78\n",
      "|   |   |   |   |   |   |--- class: 1\n",
      "|   |   |   |   |   |--- feature_11 >  -0.78\n",
      "|   |   |   |   |   |   |--- class: 0\n",
      "|   |   |   |   |--- feature_5 >  0.06\n",
      "|   |   |   |   |   |--- feature_2 <= -0.20\n",
      "|   |   |   |   |   |   |--- class: 0\n",
      "|   |   |   |   |   |--- feature_2 >  -0.20\n",
      "|   |   |   |   |   |   |--- class: 0\n",
      "|   |--- feature_11 >  -0.03\n",
      "|   |   |--- feature_5 <= -0.22\n",
      "|   |   |   |--- feature_0 <= -0.34\n",
      "|   |   |   |   |--- feature_4 <= -0.94\n",
      "|   |   |   |   |   |--- feature_2 <= -0.80\n",
      "|   |   |   |   |   |   |--- class: 0\n",
      "|   |   |   |   |   |--- feature_2 >  -0.80\n",
      "|   |   |   |   |   |   |--- class: 1\n",
      "|   |   |   |   |--- feature_4 >  -0.94\n",
      "|   |   |   |   |   |--- feature_10 <= -0.82\n",
      "|   |   |   |   |   |   |--- class: 0\n",
      "|   |   |   |   |   |--- feature_10 >  -0.82\n",
      "|   |   |   |   |   |   |--- class: 0\n",
      "|   |   |   |--- feature_0 >  -0.34\n",
      "|   |   |   |   |--- feature_3 <= -0.89\n",
      "|   |   |   |   |   |--- feature_11 <= 1.48\n",
      "|   |   |   |   |   |   |--- class: 1\n",
      "|   |   |   |   |   |--- feature_11 >  1.48\n",
      "|   |   |   |   |   |   |--- class: 0\n",
      "|   |   |   |   |--- feature_3 >  -0.89\n",
      "|   |   |   |   |   |--- feature_0 <= 2.25\n",
      "|   |   |   |   |   |   |--- class: 0\n",
      "|   |   |   |   |   |--- feature_0 >  2.25\n",
      "|   |   |   |   |   |   |--- class: 1\n",
      "|   |   |--- feature_5 >  -0.22\n",
      "|   |   |   |--- feature_2 <= 1.18\n",
      "|   |   |   |   |--- feature_0 <= -0.46\n",
      "|   |   |   |   |   |--- feature_8 <= -0.45\n",
      "|   |   |   |   |   |   |--- class: 0\n",
      "|   |   |   |   |   |--- feature_8 >  -0.45\n",
      "|   |   |   |   |   |   |--- class: 0\n",
      "|   |   |   |   |--- feature_0 >  -0.46\n",
      "|   |   |   |   |   |--- feature_11 <= 0.73\n",
      "|   |   |   |   |   |   |--- class: 0\n",
      "|   |   |   |   |   |--- feature_11 >  0.73\n",
      "|   |   |   |   |   |   |--- class: 0\n",
      "|   |   |   |--- feature_2 >  1.18\n",
      "|   |   |   |   |--- feature_3 <= 0.50\n",
      "|   |   |   |   |   |--- feature_1 <= -1.01\n",
      "|   |   |   |   |   |   |--- class: 0\n",
      "|   |   |   |   |   |--- feature_1 >  -1.01\n",
      "|   |   |   |   |   |   |--- class: 1\n",
      "|   |   |   |   |--- feature_3 >  0.50\n",
      "|   |   |   |   |   |--- feature_5 <= 1.31\n",
      "|   |   |   |   |   |   |--- class: 0\n",
      "|   |   |   |   |   |--- feature_5 >  1.31\n",
      "|   |   |   |   |   |   |--- class: 1\n",
      "|--- feature_10 >  -0.07\n",
      "|   |--- feature_11 <= 0.73\n",
      "|   |   |--- feature_3 <= 0.06\n",
      "|   |   |   |--- feature_0 <= -0.37\n",
      "|   |   |   |   |--- feature_3 <= -0.66\n",
      "|   |   |   |   |   |--- feature_11 <= -0.03\n",
      "|   |   |   |   |   |   |--- class: 1\n",
      "|   |   |   |   |   |--- feature_11 >  -0.03\n",
      "|   |   |   |   |   |   |--- class: 1\n",
      "|   |   |   |   |--- feature_3 >  -0.66\n",
      "|   |   |   |   |   |--- feature_10 <= 0.68\n",
      "|   |   |   |   |   |   |--- class: 1\n",
      "|   |   |   |   |   |--- feature_10 >  0.68\n",
      "|   |   |   |   |   |   |--- class: 1\n",
      "|   |   |   |--- feature_0 >  -0.37\n",
      "|   |   |   |   |--- feature_2 <= -0.48\n",
      "|   |   |   |   |   |--- feature_10 <= 0.68\n",
      "|   |   |   |   |   |   |--- class: 1\n",
      "|   |   |   |   |   |--- feature_10 >  0.68\n",
      "|   |   |   |   |   |   |--- class: 1\n",
      "|   |   |   |   |--- feature_2 >  -0.48\n",
      "|   |   |   |   |   |--- feature_0 <= 0.01\n",
      "|   |   |   |   |   |   |--- class: 1\n",
      "|   |   |   |   |   |--- feature_0 >  0.01\n",
      "|   |   |   |   |   |   |--- class: 1\n",
      "|   |   |--- feature_3 >  0.06\n",
      "|   |   |   |--- feature_0 <= -0.59\n",
      "|   |   |   |   |--- feature_10 <= 1.43\n",
      "|   |   |   |   |   |--- feature_5 <= 0.39\n",
      "|   |   |   |   |   |   |--- class: 1\n",
      "|   |   |   |   |   |--- feature_5 >  0.39\n",
      "|   |   |   |   |   |   |--- class: 0\n",
      "|   |   |   |   |--- feature_10 >  1.43\n",
      "|   |   |   |   |   |--- feature_1 <= -0.22\n",
      "|   |   |   |   |   |   |--- class: 1\n",
      "|   |   |   |   |   |--- feature_1 >  -0.22\n",
      "|   |   |   |   |   |   |--- class: 0\n",
      "|   |   |   |--- feature_0 >  -0.59\n",
      "|   |   |   |   |--- feature_11 <= -0.78\n",
      "|   |   |   |   |   |--- feature_4 <= -0.46\n",
      "|   |   |   |   |   |   |--- class: 0\n",
      "|   |   |   |   |   |--- feature_4 >  -0.46\n",
      "|   |   |   |   |   |   |--- class: 1\n",
      "|   |   |   |   |--- feature_11 >  -0.78\n",
      "|   |   |   |   |   |--- feature_10 <= 0.68\n",
      "|   |   |   |   |   |   |--- class: 1\n",
      "|   |   |   |   |   |--- feature_10 >  0.68\n",
      "|   |   |   |   |   |   |--- class: 1\n",
      "|   |--- feature_11 >  0.73\n",
      "|   |   |--- feature_10 <= 0.68\n",
      "|   |   |   |--- feature_2 <= -0.00\n",
      "|   |   |   |   |--- feature_5 <= -0.10\n",
      "|   |   |   |   |   |--- feature_3 <= -1.72\n",
      "|   |   |   |   |   |   |--- class: 1\n",
      "|   |   |   |   |   |--- feature_3 >  -1.72\n",
      "|   |   |   |   |   |   |--- class: 0\n",
      "|   |   |   |   |--- feature_5 >  -0.10\n",
      "|   |   |   |   |   |--- feature_9 <= -0.40\n",
      "|   |   |   |   |   |   |--- class: 1\n",
      "|   |   |   |   |   |--- feature_9 >  -0.40\n",
      "|   |   |   |   |   |   |--- class: 0\n",
      "|   |   |   |--- feature_2 >  -0.00\n",
      "|   |   |   |   |--- feature_3 <= -0.07\n",
      "|   |   |   |   |   |--- feature_5 <= -0.40\n",
      "|   |   |   |   |   |   |--- class: 1\n",
      "|   |   |   |   |   |--- feature_5 >  -0.40\n",
      "|   |   |   |   |   |   |--- class: 0\n",
      "|   |   |   |   |--- feature_3 >  -0.07\n",
      "|   |   |   |   |   |--- feature_2 <= 1.91\n",
      "|   |   |   |   |   |   |--- class: 0\n",
      "|   |   |   |   |   |--- feature_2 >  1.91\n",
      "|   |   |   |   |   |   |--- class: 1\n",
      "|   |   |--- feature_10 >  0.68\n",
      "|   |   |   |--- feature_0 <= -0.43\n",
      "|   |   |   |   |--- feature_10 <= 1.43\n",
      "|   |   |   |   |   |--- feature_3 <= -1.59\n",
      "|   |   |   |   |   |   |--- class: 1\n",
      "|   |   |   |   |   |--- feature_3 >  -1.59\n",
      "|   |   |   |   |   |   |--- class: 0\n",
      "|   |   |   |   |--- feature_10 >  1.43\n",
      "|   |   |   |   |   |--- feature_4 <= -1.55\n",
      "|   |   |   |   |   |   |--- class: 0\n",
      "|   |   |   |   |   |--- feature_4 >  -1.55\n",
      "|   |   |   |   |   |   |--- class: 1\n",
      "|   |   |   |--- feature_0 >  -0.43\n",
      "|   |   |   |   |--- feature_3 <= 0.51\n",
      "|   |   |   |   |   |--- feature_5 <= 1.68\n",
      "|   |   |   |   |   |   |--- class: 1\n",
      "|   |   |   |   |   |--- feature_5 >  1.68\n",
      "|   |   |   |   |   |   |--- class: 0\n",
      "|   |   |   |   |--- feature_3 >  0.51\n",
      "|   |   |   |   |   |--- feature_9 <= 1.60\n",
      "|   |   |   |   |   |   |--- class: 1\n",
      "|   |   |   |   |   |--- feature_9 >  1.60\n",
      "|   |   |   |   |   |   |--- class: 0\n",
      "\n"
     ]
    }
   ],
   "source": [
    "text_representation = tree.export_text(dt_model)\n",
    "print(text_representation)"
   ]
  },
  {
   "attachments": {},
   "cell_type": "markdown",
   "metadata": {},
   "source": [
    "From this, we can see that feature 10 is at the top of the tree, meaning that it is most indicative of deciding which team wins. Looking at our variable X, we find that feature 10 is turnovers_away. This feature may have been chosen to be the top of the tree because this datapoint is frequently 0, while any deviation from 0 can very heavily swing the results of a game. feature 11, turnovers_home, is second to the top, and essentially the same data for the other team. In comparison, the innermost decision features are not consistent between branches.\n",
    "\n",
    "turnovers_away is also given the greatest weight in the logistic regression, as well as the greatest feature importance in random forest. This shows that the models all learned similar relative importance of the most impactful variables. "
   ]
  },
  {
   "attachments": {},
   "cell_type": "markdown",
   "metadata": {},
   "source": [
    "Overall, the models were all similarly effective at predicting NFL game wins, but nonetheless effective. The testing accuracy of all six models only ranged between 0.76 and 0.81, a very narrow range, but random forest performed the best and k-nearest neighbors performed the worst. The training accuracies were also all just slightly above the testing accuracies of each model, suggesting that we are neither significantly undertraining nor overtraining.\n",
    "\n",
    "We can therefore conclude that the impact of the variables we looked at are relatively linear in relation to a team's chances of winning since linear and nonlinear prediction methods perform comparably. However, the combination of variables we used are not able to completely determine the outcome of a game under any prediction method."
   ]
  },
  {
   "attachments": {},
   "cell_type": "markdown",
   "metadata": {},
   "source": [
    "## Future Work\n",
    "The main shortcoming of our project is that we are only able to predict the result of a game using the data that came from the game itself. Our model is not able to use existing data to predict future game results. One area of improvement for this project is to utilize individual player statistics to determine the overall effectiveness of a team. Using this information, we can potentially predict wins and losses for games that have yet to be played. \n",
    "\n",
    "There also exist dozens of advanced statistics such as first down percentage, yards lost to tackles, yards lost to sacks, and pass completion percentage that we did not utilize for this project. Even though there is less evidence that these statistics affect the outcome of the game, we believe that more data in general will help train our model to be more accurate.\n"
   ]
  },
  {
   "attachments": {},
   "cell_type": "markdown",
   "metadata": {},
   "source": [
    "## Citations\n",
    "- https://fivethirtyeight.com/methodology/how-our-nfl-predictions-work/\n",
    "- https://www.legalsportsbetting.com/how-much-money-do-americans-bet-on-sports/\n",
    "- https://www.kaggle.com/datasets/cviaxmiwnptr/nfl-team-stats-20022019-espn"
   ]
  }
 ],
 "metadata": {
  "kernelspec": {
   "display_name": "CMSC422",
   "language": "python",
   "name": "python3"
  },
  "language_info": {
   "codemirror_mode": {
    "name": "ipython",
    "version": 3
   },
   "file_extension": ".py",
   "mimetype": "text/x-python",
   "name": "python",
   "nbconvert_exporter": "python",
   "pygments_lexer": "ipython3",
   "version": "3.10.9"
  },
  "orig_nbformat": 4
 },
 "nbformat": 4,
 "nbformat_minor": 2
}
